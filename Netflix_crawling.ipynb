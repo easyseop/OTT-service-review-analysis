{
 "cells": [
  {
   "cell_type": "code",
   "execution_count": 53,
   "id": "10b84538",
   "metadata": {},
   "outputs": [],
   "source": [
    "import time\n",
    "import requests\n",
    "import pandas as pd\n",
    "from fake_useragent import UserAgent\n",
    "from bs4 import BeautifulSoup as bs\n",
    "import urllib.request as ur\n"
   ]
  },
  {
   "cell_type": "code",
   "execution_count": 54,
   "id": "4d62c12e",
   "metadata": {},
   "outputs": [],
   "source": [
    "import os\n",
    "dir_name =\"Netflix_tvshow\" \n",
    "dir_name_m =\"Neflix_movie\"\n",
    "try:\n",
    "    os.mkdir(dir_name)\n",
    "    os.mkdir(dir_name_m)\n",
    "except:\n",
    "    pass\n",
    "\n",
    "\n",
    "dir_name_m =\"Neflix_movie\"\n",
    "try:\n",
    "    os.mkdir(dir_name_m)\n",
    "except:\n",
    "    pass\n",
    "\n",
    "for year,start_m,last_m in ([[2020,5,12],[2021,1,12],[2022,1,7]]):\n",
    "\n",
    "    for month in range(start_m,last_m+1):\n",
    "        if month<10:\n",
    "            month = '0'+ str(month)\n",
    "        dic = {} \n",
    "        dic['title'] = []\n",
    "        url =f'https://flixpatrol.com/top10/netflix/south-korea/{year}-{month}/'\n",
    "        html = ur.urlopen(url)\n",
    "        soup = bs(html.read(), \"html.parser\")\n",
    "        if len(soup.find_all('div','content mb-14')) == 1:\n",
    "            continue\n",
    "            \n",
    "        movie_list,tv_show_list = soup.find_all('div','content mb-14')[0],soup.find_all('div','content mb-14')[1]\n",
    "\n",
    "        if tv_show_list is not None:\n",
    "            for tv_show in tv_show_list.find_all('tr','table-group'):\n",
    "                t = tv_show.text.split()\n",
    "                title = ' '.join(t[1:-1])\n",
    "                dic['title'].append(title)\n",
    "\n",
    "            df = pd.DataFrame(dic)\n",
    "            df.to_csv(f'{dir_name}/Netflix_tvshow_{year}-{month}.csv')\n",
    "        \n",
    "        dic['title'] = [] # dic 초기화 \n",
    "        \n",
    "        if movie_list is not None:\n",
    "            for movie in movie_list.find_all('tr','table-group'):\n",
    "                t = movie.text.split()\n",
    "                title = ' '.join(t[1:-1])\n",
    "                dic['title'].append(title)\n",
    "\n",
    "            df = pd.DataFrame(dic)\n",
    "            df.to_csv(f'{dir_name_m}/Netflix_movie_{year}-{month}.csv')\n",
    "\n",
    "        "
   ]
  },
  {
   "cell_type": "code",
   "execution_count": 33,
   "id": "f54c393a",
   "metadata": {},
   "outputs": [
    {
     "name": "stdout",
     "output_type": "stream",
     "text": [
      "Hospital Playlist\n",
      "Extracurricular\n",
      "The King: Eternal Monarch\n",
      "Heart Signal\n",
      "The Last Dance\n",
      "Into the Night\n",
      "Too Hot to Handle\n",
      "Prison Playbook\n",
      "Mystic Pop-Up Bar\n",
      "Rugal\n"
     ]
    }
   ],
   "source": []
  },
  {
   "cell_type": "code",
   "execution_count": null,
   "id": "8dd1d5cd",
   "metadata": {},
   "outputs": [],
   "source": []
  }
 ],
 "metadata": {
  "kernelspec": {
   "display_name": "jiseopy",
   "language": "python",
   "name": "jiseopy"
  },
  "language_info": {
   "codemirror_mode": {
    "name": "ipython",
    "version": 3
   },
   "file_extension": ".py",
   "mimetype": "text/x-python",
   "name": "python",
   "nbconvert_exporter": "python",
   "pygments_lexer": "ipython3",
   "version": "3.9.7"
  }
 },
 "nbformat": 4,
 "nbformat_minor": 5
}
